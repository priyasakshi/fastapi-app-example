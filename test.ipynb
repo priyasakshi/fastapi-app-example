{
 "cells": [
  {
   "cell_type": "code",
   "execution_count": 2,
   "id": "a7e4ae5e",
   "metadata": {},
   "outputs": [],
   "source": [
    "from typing import List, Optional"
   ]
  },
  {
   "cell_type": "code",
   "execution_count": 3,
   "id": "b3eb39a7",
   "metadata": {},
   "outputs": [],
   "source": [
    "str_list : List[str] = [\"apple\", \"banana\", \"cherry\"]\n",
    "int_list : List[int] = [1, 2, 3, 4, 5]"
   ]
  },
  {
   "cell_type": "code",
   "execution_count": 4,
   "id": "6ab75d55",
   "metadata": {},
   "outputs": [],
   "source": [
    "str_list.append(\"Guava\")"
   ]
  },
  {
   "cell_type": "code",
   "execution_count": 5,
   "id": "60298a0c",
   "metadata": {},
   "outputs": [],
   "source": [
    "str_list.append(5)"
   ]
  },
  {
   "cell_type": "code",
   "execution_count": 6,
   "id": "232cdf07",
   "metadata": {},
   "outputs": [
    {
     "data": {
      "text/plain": [
       "['apple', 'banana', 'cherry', 'Guava', 5]"
      ]
     },
     "execution_count": 6,
     "metadata": {},
     "output_type": "execute_result"
    }
   ],
   "source": [
    "str_list"
   ]
  },
  {
   "cell_type": "code",
   "execution_count": 7,
   "id": "98b3f611",
   "metadata": {},
   "outputs": [],
   "source": [
    "int_list.append(\"Guava\")"
   ]
  },
  {
   "cell_type": "code",
   "execution_count": 8,
   "id": "9db27b5b",
   "metadata": {},
   "outputs": [
    {
     "data": {
      "text/plain": [
       "[1, 2, 3, 4, 5, 'Guava']"
      ]
     },
     "execution_count": 8,
     "metadata": {},
     "output_type": "execute_result"
    }
   ],
   "source": [
    "int_list"
   ]
  },
  {
   "cell_type": "code",
   "execution_count": 9,
   "id": "fd49d8d6",
   "metadata": {},
   "outputs": [
    {
     "name": "stdout",
     "output_type": "stream",
     "text": [
      "0 apple\n",
      "1 banana\n",
      "2 cherry\n",
      "3 Guava\n",
      "4 5\n"
     ]
    }
   ],
   "source": [
    "for i, item in enumerate(str_list):\n",
    "    print(i, item)"
   ]
  },
  {
   "cell_type": "code",
   "execution_count": 10,
   "id": "8991499e",
   "metadata": {},
   "outputs": [],
   "source": [
    "def add_numbers(a: int, b: int) -> int:\n",
    "    return a + b"
   ]
  },
  {
   "cell_type": "code",
   "execution_count": null,
   "id": "359f7e88",
   "metadata": {},
   "outputs": [],
   "source": []
  },
  {
   "cell_type": "code",
   "execution_count": 12,
   "id": "dba2c30b",
   "metadata": {},
   "outputs": [],
   "source": [
    "items ={\n",
    "        \"item_ids\":[1,2],\n",
    "        \"item_update\": {\n",
    "            \"name\":\"Updated Name\",\n",
    "            \"description\":\"Updated Description\"}   \n",
    "    }"
   ]
  },
  {
   "cell_type": "code",
   "execution_count": 16,
   "id": "69e2e90c",
   "metadata": {},
   "outputs": [
    {
     "name": "stdout",
     "output_type": "stream",
     "text": [
      "1\n",
      "2\n"
     ]
    }
   ],
   "source": [
    "for item in items[\"item_ids\"]:\n",
    "    print(item)"
   ]
  },
  {
   "cell_type": "code",
   "execution_count": 18,
   "id": "d0ae17b1",
   "metadata": {},
   "outputs": [
    {
     "ename": "AttributeError",
     "evalue": "'dict' object has no attribute 'item_ids'",
     "output_type": "error",
     "traceback": [
      "\u001b[31m---------------------------------------------------------------------------\u001b[39m",
      "\u001b[31mAttributeError\u001b[39m                            Traceback (most recent call last)",
      "\u001b[36mCell\u001b[39m\u001b[36m \u001b[39m\u001b[32mIn[18]\u001b[39m\u001b[32m, line 1\u001b[39m\n\u001b[32m----> \u001b[39m\u001b[32m1\u001b[39m \u001b[38;5;28;01mfor\u001b[39;00m item_id \u001b[38;5;129;01min\u001b[39;00m \u001b[43mitems\u001b[49m\u001b[43m.\u001b[49m\u001b[43mitem_ids\u001b[49m:\n\u001b[32m      2\u001b[39m     \u001b[38;5;28mprint\u001b[39m(item_id)\n",
      "\u001b[31mAttributeError\u001b[39m: 'dict' object has no attribute 'item_ids'"
     ]
    }
   ],
   "source": [
    "for item_id in items.item_ids:\n",
    "    print(item_id)"
   ]
  },
  {
   "cell_type": "code",
   "execution_count": 17,
   "id": "f5b6cdbf",
   "metadata": {},
   "outputs": [
    {
     "data": {
      "text/plain": [
       "<enumerate at 0x10f473560>"
      ]
     },
     "execution_count": 17,
     "metadata": {},
     "output_type": "execute_result"
    }
   ],
   "source": [
    "enumerate(str_list)"
   ]
  },
  {
   "cell_type": "markdown",
   "id": "5187ad18",
   "metadata": {},
   "source": []
  }
 ],
 "metadata": {
  "kernelspec": {
   "display_name": "Python 3",
   "language": "python",
   "name": "python3"
  },
  "language_info": {
   "codemirror_mode": {
    "name": "ipython",
    "version": 3
   },
   "file_extension": ".py",
   "mimetype": "text/x-python",
   "name": "python",
   "nbconvert_exporter": "python",
   "pygments_lexer": "ipython3",
   "version": "3.13.4"
  }
 },
 "nbformat": 4,
 "nbformat_minor": 5
}
